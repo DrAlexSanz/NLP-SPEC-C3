{
  "nbformat": 4,
  "nbformat_minor": 0,
  "metadata": {
    "colab": {
      "name": "Untitled1.ipynb",
      "provenance": [],
      "authorship_tag": "ABX9TyPLjLgmRsMkece/S8JBQM20",
      "include_colab_link": true
    },
    "kernelspec": {
      "name": "python3",
      "display_name": "Python 3"
    }
  },
  "cells": [
    {
      "cell_type": "markdown",
      "metadata": {
        "id": "view-in-github",
        "colab_type": "text"
      },
      "source": [
        "<a href=\"https://colab.research.google.com/github/DrAlexSanz/NLP-SPEC-C3/blob/main/W3/Assignment_3.ipynb\" target=\"_parent\"><img src=\"https://colab.research.google.com/assets/colab-badge.svg\" alt=\"Open In Colab\"/></a>"
      ]
    },
    {
      "cell_type": "code",
      "metadata": {
        "id": "5645eX2ma9Ql"
      },
      "source": [
        "!pip install sentencepiece==0.1.91\n",
        "!pip install trax\n",
        "\n",
        "import trax\n",
        "import trax.fastmath.numpy as np\n",
        "\n",
        "import os\n",
        "import pickle\n",
        "import numpy\n",
        "from trax import fastmath\n",
        "from trax import layers as tl\n",
        "import random as rnd\n",
        "from trax.supervised import training"
      ],
      "execution_count": null,
      "outputs": []
    },
    {
      "cell_type": "code",
      "metadata": {
        "colab": {
          "base_uri": "https://localhost:8080/"
        },
        "id": "lmCfxRaea-0u",
        "outputId": "ac8987d2-903b-4f9c-e716-61101da38dbd"
      },
      "source": [
        "!git clone -l -s https://github.com/DrAlexSanz/NLP-SPEC-C3.git Repo\n",
        "%cd Repo\n",
        "%rm -rf W1\n",
        "%rm -rf W2\n",
        "%mv ./W3/* ./\n",
        "%rm -rf W3"
      ],
      "execution_count": 1,
      "outputs": [
        {
          "output_type": "stream",
          "text": [
            "Cloning into 'Repo'...\n",
            "warning: --local is ignored\n",
            "remote: Enumerating objects: 78, done.\u001b[K\n",
            "remote: Counting objects: 100% (78/78), done.\u001b[K\n",
            "remote: Compressing objects: 100% (72/72), done.\u001b[K\n",
            "remote: Total 206 (delta 15), reused 45 (delta 4), pack-reused 128\u001b[K\n",
            "Receiving objects: 100% (206/206), 10.59 MiB | 18.17 MiB/s, done.\n",
            "Resolving deltas: 100% (38/38), done.\n",
            "/content/Repo\n"
          ],
          "name": "stdout"
        }
      ]
    }
  ]
}