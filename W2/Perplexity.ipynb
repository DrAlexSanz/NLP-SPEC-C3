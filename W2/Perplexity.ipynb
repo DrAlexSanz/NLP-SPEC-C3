{
  "nbformat": 4,
  "nbformat_minor": 0,
  "metadata": {
    "colab": {
      "name": "Copy of Perplexity.ipynb",
      "provenance": [],
      "collapsed_sections": [],
      "authorship_tag": "ABX9TyPS0+fcOcV8xl/fFp+JvEqw",
      "include_colab_link": true
    },
    "kernelspec": {
      "name": "python3",
      "display_name": "Python 3"
    },
    "accelerator": "GPU"
  },
  "cells": [
    {
      "cell_type": "markdown",
      "metadata": {
        "id": "view-in-github",
        "colab_type": "text"
      },
      "source": [
        "<a href=\"https://colab.research.google.com/github/DrAlexSanz/NLP-SPEC-C3/blob/main/W2/Perplexity.ipynb\" target=\"_parent\"><img src=\"https://colab.research.google.com/assets/colab-badge.svg\" alt=\"Open In Colab\"/></a>"
      ]
    },
    {
      "cell_type": "markdown",
      "metadata": {
        "id": "8Hz7lnqgDm3_"
      },
      "source": [
        "## Working with JAX numpy and calculating perplexity: Ungraded Lecture Notebook\n",
        "Normally you would import numpy and rename it as np.\n",
        "\n",
        "However in this week's assignment you will notice that this convention has been changed.\n",
        "\n",
        "Now standard numpy is not renamed and trax.fastmath.numpy is renamed as np.\n",
        "\n",
        "The rationale behind this change is that you will be using Trax's numpy (which is compatible with JAX) far more often. Trax's numpy supports most of the same functions as the regular numpy so the change won't be noticeable in most cases."
      ]
    },
    {
      "cell_type": "code",
      "metadata": {
        "id": "OyNmgcoBDwum"
      },
      "source": [
        "!pip install sentencepiece==0.1.91\n",
        "!pip install trax\n",
        "\n",
        "import trax.fastmath.numpy as np\n",
        "\n",
        "import trax\n",
        "\n",
        "import numpy"
      ],
      "execution_count": null,
      "outputs": []
    },
    {
      "cell_type": "markdown",
      "metadata": {
        "id": "IXeBG2OmNaO-"
      },
      "source": [
        "### Apparently the seed doesn't need to be set in trax supervised... it's now in the training loop. This thing is still half baked."
      ]
    },
    {
      "cell_type": "code",
      "metadata": {
        "id": "ETBHkTBBM-EZ"
      },
      "source": [
        "# Setting random seeds\n",
        "#trax.supervised.trainer_lib.init_random_number_generators(32)\n",
        "numpy.random.seed(32)"
      ],
      "execution_count": 3,
      "outputs": []
    },
    {
      "cell_type": "code",
      "metadata": {
        "colab": {
          "base_uri": "https://localhost:8080/"
        },
        "id": "O2SWOm-8Q2ni",
        "outputId": "47f5cd98-dac9-49ff-ae69-a57ef54dd548"
      },
      "source": [
        "numpy_array = numpy.random.random((5,10))\n",
        "print(f\"The regular numpy array looks like this:\\n\\n {numpy_array}\\n\")\n",
        "print(f\"It is of type: {type(numpy_array)}\")"
      ],
      "execution_count": 4,
      "outputs": [
        {
          "output_type": "stream",
          "text": [
            "The regular numpy array looks like this:\n",
            "\n",
            " [[0.85888927 0.37271115 0.55512878 0.95565655 0.7366696  0.81620514\n",
            "  0.10108656 0.92848807 0.60910917 0.59655344]\n",
            " [0.09178413 0.34518624 0.66275252 0.44171349 0.55148779 0.70371249\n",
            "  0.58940123 0.04993276 0.56179184 0.76635847]\n",
            " [0.91090833 0.09290995 0.90252139 0.46096041 0.45201847 0.99942549\n",
            "  0.16242374 0.70937058 0.16062408 0.81077677]\n",
            " [0.03514717 0.53488673 0.16650012 0.30841038 0.04506241 0.23857613\n",
            "  0.67483453 0.78238275 0.69520163 0.32895445]\n",
            " [0.49403187 0.52412136 0.29854125 0.46310814 0.98478429 0.50113492\n",
            "  0.39807245 0.72790532 0.86333097 0.02616954]]\n",
            "\n",
            "It is of type: <class 'numpy.ndarray'>\n"
          ],
          "name": "stdout"
        }
      ]
    },
    {
      "cell_type": "code",
      "metadata": {
        "colab": {
          "base_uri": "https://localhost:8080/"
        },
        "id": "SMsSZwC6RCz3",
        "outputId": "e5d86408-5459-4470-b795-577999a6b6d7"
      },
      "source": [
        "trax_numpy_array = np.array(numpy_array)\n",
        "print(f\"The trax numpy array looks like this:\\n\\n {trax_numpy_array}\\n\")\n",
        "print(f\"It is of type: {type(trax_numpy_array)}\")"
      ],
      "execution_count": 5,
      "outputs": [
        {
          "output_type": "stream",
          "text": [
            "The trax numpy array looks like this:\n",
            "\n",
            " [[0.8588893  0.37271115 0.55512875 0.9556565  0.7366696  0.81620514\n",
            "  0.10108656 0.9284881  0.60910916 0.59655344]\n",
            " [0.09178413 0.34518623 0.6627525  0.44171348 0.5514878  0.70371246\n",
            "  0.58940125 0.04993276 0.56179184 0.7663585 ]\n",
            " [0.91090834 0.09290995 0.9025214  0.46096042 0.45201847 0.9994255\n",
            "  0.16242374 0.7093706  0.16062407 0.81077677]\n",
            " [0.03514718 0.5348867  0.16650012 0.30841038 0.04506241 0.23857613\n",
            "  0.67483455 0.7823827  0.69520164 0.32895446]\n",
            " [0.49403188 0.52412134 0.29854125 0.46310815 0.9847843  0.50113493\n",
            "  0.39807245 0.72790533 0.86333096 0.02616954]]\n",
            "\n",
            "It is of type: <class 'jax.interpreters.xla.DeviceArray'>\n"
          ],
          "name": "stdout"
        }
      ]
    },
    {
      "cell_type": "markdown",
      "metadata": {
        "id": "D9Yye48rRNpP"
      },
      "source": [
        "# Calculating Perplexity\n",
        "The perplexity is a metric that measures how well a probability model predicts a sample and it is commonly used to evaluate language models. It is defined as:\n",
        "\n",
        "$$P(W) = \\sqrt[N]{\\prod_{i=1}^{N} \\frac{1}{P(w_i| w_1,...,w_{n-1})}}$$\n",
        "As an implementation hack, you would usually take the log of that formula (to enable us to use the log probabilities we get as output of our RNN, convert exponents to products, and products into sums which makes computations less complicated and computationally more efficient). You should also take care of the padding, since you do not want to include the padding when calculating the perplexity (because we do not want to have a perplexity measure artificially good). The algebra behind this process is explained next:\n",
        "\n",
        "$$log P(W) = {log\\big(\\sqrt[N]{\\prod_{i=1}^{N} \\frac{1}{P(w_i| w_1,...,w_{n-1})}}\\big)}$$$$ = {log\\big({\\prod_{i=1}^{N} \\frac{1}{P(w_i| w_1,...,w_{n-1})}}\\big)^{\\frac{1}{N}}}$$\n",
        "$$ = {log\\big({\\prod_{i=1}^{N}{P(w_i| w_1,...,w_{n-1})}}\\big)^{-\\frac{1}{N}}} $$$$ = -\\frac{1}{N}{log\\big({\\prod_{i=1}^{N}{P(w_i| w_1,...,w_{n-1})}}\\big)} $$$$ = -\\frac{1}{N}{\\big({\\sum_{i=1}^{N}{logP(w_i| w_1,...,w_{n-1})}}\\big)} $$\n",
        "\n",
        "You will be working with a real example from this week's assignment. The example is made up of:\n",
        "\n",
        "* Predictions : batch of tensors corresponding to lines of text predicted by the model.\n",
        "* Targets : batch of actual tensors corresponding to lines of text."
      ]
    },
    {
      "cell_type": "code",
      "metadata": {
        "colab": {
          "base_uri": "https://localhost:8080/"
        },
        "id": "bwZowlKZRcso",
        "outputId": "07e55143-19f8-472a-d55d-51f36fda913e"
      },
      "source": [
        "from trax import layers as tl\n",
        "!wget https://raw.githubusercontent.com/DrAlexSanz/NLP-SPEC-C3/main/W2/utils.py\n",
        "\n",
        "!wget https://github.com/DrAlexSanz/NLP-SPEC-C3/raw/main/W2/predictions.npy\n",
        "!wget https://github.com/DrAlexSanz/NLP-SPEC-C3/raw/main/W2/targets.npy"
      ],
      "execution_count": 7,
      "outputs": [
        {
          "output_type": "stream",
          "text": [
            "--2020-12-01 07:51:28--  https://raw.githubusercontent.com/DrAlexSanz/NLP-SPEC-C3/main/W2/utils.py\n",
            "Resolving raw.githubusercontent.com (raw.githubusercontent.com)... 151.101.0.133, 151.101.64.133, 151.101.128.133, ...\n",
            "Connecting to raw.githubusercontent.com (raw.githubusercontent.com)|151.101.0.133|:443... connected.\n",
            "HTTP request sent, awaiting response... 200 OK\n",
            "Length: 970 [text/plain]\n",
            "Saving to: ‘utils.py’\n",
            "\n",
            "\rutils.py              0%[                    ]       0  --.-KB/s               \rutils.py            100%[===================>]     970  --.-KB/s    in 0s      \n",
            "\n",
            "2020-12-01 07:51:28 (54.4 MB/s) - ‘utils.py’ saved [970/970]\n",
            "\n",
            "--2020-12-01 07:51:29--  https://github.com/DrAlexSanz/NLP-SPEC-C3/raw/main/W2/predictions.npy\n",
            "Resolving github.com (github.com)... 192.30.255.113\n",
            "Connecting to github.com (github.com)|192.30.255.113|:443... connected.\n",
            "HTTP request sent, awaiting response... 302 Found\n",
            "Location: https://raw.githubusercontent.com/DrAlexSanz/NLP-SPEC-C3/main/W2/predictions.npy [following]\n",
            "--2020-12-01 07:51:29--  https://raw.githubusercontent.com/DrAlexSanz/NLP-SPEC-C3/main/W2/predictions.npy\n",
            "Resolving raw.githubusercontent.com (raw.githubusercontent.com)... 151.101.0.133, 151.101.64.133, 151.101.128.133, ...\n",
            "Connecting to raw.githubusercontent.com (raw.githubusercontent.com)|151.101.0.133|:443... connected.\n",
            "HTTP request sent, awaiting response... 200 OK\n",
            "Length: 2097280 (2.0M) [application/octet-stream]\n",
            "Saving to: ‘predictions.npy’\n",
            "\n",
            "predictions.npy     100%[===================>]   2.00M  --.-KB/s    in 0.07s   \n",
            "\n",
            "2020-12-01 07:51:29 (29.3 MB/s) - ‘predictions.npy’ saved [2097280/2097280]\n",
            "\n",
            "--2020-12-01 07:51:29--  https://github.com/DrAlexSanz/NLP-SPEC-C3/raw/main/W2/targets.npy\n",
            "Resolving github.com (github.com)... 192.30.255.113\n",
            "Connecting to github.com (github.com)|192.30.255.113|:443... connected.\n",
            "HTTP request sent, awaiting response... 302 Found\n",
            "Location: https://raw.githubusercontent.com/DrAlexSanz/NLP-SPEC-C3/main/W2/targets.npy [following]\n",
            "--2020-12-01 07:51:30--  https://raw.githubusercontent.com/DrAlexSanz/NLP-SPEC-C3/main/W2/targets.npy\n",
            "Resolving raw.githubusercontent.com (raw.githubusercontent.com)... 151.101.0.133, 151.101.64.133, 151.101.128.133, ...\n",
            "Connecting to raw.githubusercontent.com (raw.githubusercontent.com)|151.101.0.133|:443... connected.\n",
            "HTTP request sent, awaiting response... 200 OK\n",
            "Length: 8320 (8.1K) [application/octet-stream]\n",
            "Saving to: ‘targets.npy’\n",
            "\n",
            "targets.npy         100%[===================>]   8.12K  --.-KB/s    in 0s      \n",
            "\n",
            "2020-12-01 07:51:30 (68.9 MB/s) - ‘targets.npy’ saved [8320/8320]\n",
            "\n"
          ],
          "name": "stdout"
        }
      ]
    }
  ]
}