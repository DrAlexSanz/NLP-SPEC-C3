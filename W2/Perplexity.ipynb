{
  "nbformat": 4,
  "nbformat_minor": 0,
  "metadata": {
    "colab": {
      "name": "Copy of Perplexity.ipynb",
      "provenance": [],
      "collapsed_sections": [],
      "authorship_tag": "ABX9TyNaBaT86m5ASbdfvJSTsDiT",
      "include_colab_link": true
    },
    "kernelspec": {
      "name": "python3",
      "display_name": "Python 3"
    },
    "accelerator": "GPU"
  },
  "cells": [
    {
      "cell_type": "markdown",
      "metadata": {
        "id": "view-in-github",
        "colab_type": "text"
      },
      "source": [
        "<a href=\"https://colab.research.google.com/github/DrAlexSanz/NLP-SPEC-C3/blob/main/W2/Perplexity.ipynb\" target=\"_parent\"><img src=\"https://colab.research.google.com/assets/colab-badge.svg\" alt=\"Open In Colab\"/></a>"
      ]
    },
    {
      "cell_type": "markdown",
      "metadata": {
        "id": "8Hz7lnqgDm3_"
      },
      "source": [
        "## Working with JAX numpy and calculating perplexity: Ungraded Lecture Notebook\n",
        "Normally you would import numpy and rename it as np.\n",
        "\n",
        "However in this week's assignment you will notice that this convention has been changed.\n",
        "\n",
        "Now standard numpy is not renamed and trax.fastmath.numpy is renamed as np.\n",
        "\n",
        "The rationale behind this change is that you will be using Trax's numpy (which is compatible with JAX) far more often. Trax's numpy supports most of the same functions as the regular numpy so the change won't be noticeable in most cases."
      ]
    },
    {
      "cell_type": "code",
      "metadata": {
        "id": "OyNmgcoBDwum",
        "outputId": "aba23598-5d23-4c33-a3df-caf17e0bf922",
        "colab": {
          "base_uri": "https://localhost:8080/"
        }
      },
      "source": [
        "!pip install sentencepiece==0.1.91\n",
        "!pip install trax\n",
        "\n",
        "import trax.fastmath.numpy as np\n",
        "\n",
        "import trax\n",
        "\n",
        "import numpy"
      ],
      "execution_count": 1,
      "outputs": [
        {
          "output_type": "stream",
          "text": [
            "Collecting sentencepiece==0.1.91\n",
            "\u001b[?25l  Downloading https://files.pythonhosted.org/packages/d4/a4/d0a884c4300004a78cca907a6ff9a5e9fe4f090f5d95ab341c53d28cbc58/sentencepiece-0.1.91-cp36-cp36m-manylinux1_x86_64.whl (1.1MB)\n",
            "\r\u001b[K     |▎                               | 10kB 21.6MB/s eta 0:00:01\r\u001b[K     |▋                               | 20kB 23.7MB/s eta 0:00:01\r\u001b[K     |█                               | 30kB 18.6MB/s eta 0:00:01\r\u001b[K     |█▏                              | 40kB 17.3MB/s eta 0:00:01\r\u001b[K     |█▌                              | 51kB 12.5MB/s eta 0:00:01\r\u001b[K     |█▉                              | 61kB 12.5MB/s eta 0:00:01\r\u001b[K     |██▏                             | 71kB 12.7MB/s eta 0:00:01\r\u001b[K     |██▍                             | 81kB 12.7MB/s eta 0:00:01\r\u001b[K     |██▊                             | 92kB 13.8MB/s eta 0:00:01\r\u001b[K     |███                             | 102kB 13.4MB/s eta 0:00:01\r\u001b[K     |███▍                            | 112kB 13.4MB/s eta 0:00:01\r\u001b[K     |███▋                            | 122kB 13.4MB/s eta 0:00:01\r\u001b[K     |████                            | 133kB 13.4MB/s eta 0:00:01\r\u001b[K     |████▎                           | 143kB 13.4MB/s eta 0:00:01\r\u001b[K     |████▋                           | 153kB 13.4MB/s eta 0:00:01\r\u001b[K     |████▉                           | 163kB 13.4MB/s eta 0:00:01\r\u001b[K     |█████▏                          | 174kB 13.4MB/s eta 0:00:01\r\u001b[K     |█████▌                          | 184kB 13.4MB/s eta 0:00:01\r\u001b[K     |█████▉                          | 194kB 13.4MB/s eta 0:00:01\r\u001b[K     |██████                          | 204kB 13.4MB/s eta 0:00:01\r\u001b[K     |██████▍                         | 215kB 13.4MB/s eta 0:00:01\r\u001b[K     |██████▊                         | 225kB 13.4MB/s eta 0:00:01\r\u001b[K     |███████                         | 235kB 13.4MB/s eta 0:00:01\r\u001b[K     |███████▎                        | 245kB 13.4MB/s eta 0:00:01\r\u001b[K     |███████▋                        | 256kB 13.4MB/s eta 0:00:01\r\u001b[K     |████████                        | 266kB 13.4MB/s eta 0:00:01\r\u001b[K     |████████▎                       | 276kB 13.4MB/s eta 0:00:01\r\u001b[K     |████████▌                       | 286kB 13.4MB/s eta 0:00:01\r\u001b[K     |████████▉                       | 296kB 13.4MB/s eta 0:00:01\r\u001b[K     |█████████▏                      | 307kB 13.4MB/s eta 0:00:01\r\u001b[K     |█████████▌                      | 317kB 13.4MB/s eta 0:00:01\r\u001b[K     |█████████▊                      | 327kB 13.4MB/s eta 0:00:01\r\u001b[K     |██████████                      | 337kB 13.4MB/s eta 0:00:01\r\u001b[K     |██████████▍                     | 348kB 13.4MB/s eta 0:00:01\r\u001b[K     |██████████▊                     | 358kB 13.4MB/s eta 0:00:01\r\u001b[K     |███████████                     | 368kB 13.4MB/s eta 0:00:01\r\u001b[K     |███████████▎                    | 378kB 13.4MB/s eta 0:00:01\r\u001b[K     |███████████▋                    | 389kB 13.4MB/s eta 0:00:01\r\u001b[K     |████████████                    | 399kB 13.4MB/s eta 0:00:01\r\u001b[K     |████████████▏                   | 409kB 13.4MB/s eta 0:00:01\r\u001b[K     |████████████▌                   | 419kB 13.4MB/s eta 0:00:01\r\u001b[K     |████████████▉                   | 430kB 13.4MB/s eta 0:00:01\r\u001b[K     |█████████████▏                  | 440kB 13.4MB/s eta 0:00:01\r\u001b[K     |█████████████▍                  | 450kB 13.4MB/s eta 0:00:01\r\u001b[K     |█████████████▊                  | 460kB 13.4MB/s eta 0:00:01\r\u001b[K     |██████████████                  | 471kB 13.4MB/s eta 0:00:01\r\u001b[K     |██████████████▍                 | 481kB 13.4MB/s eta 0:00:01\r\u001b[K     |██████████████▋                 | 491kB 13.4MB/s eta 0:00:01\r\u001b[K     |███████████████                 | 501kB 13.4MB/s eta 0:00:01\r\u001b[K     |███████████████▎                | 512kB 13.4MB/s eta 0:00:01\r\u001b[K     |███████████████▋                | 522kB 13.4MB/s eta 0:00:01\r\u001b[K     |███████████████▉                | 532kB 13.4MB/s eta 0:00:01\r\u001b[K     |████████████████▏               | 542kB 13.4MB/s eta 0:00:01\r\u001b[K     |████████████████▌               | 552kB 13.4MB/s eta 0:00:01\r\u001b[K     |████████████████▉               | 563kB 13.4MB/s eta 0:00:01\r\u001b[K     |█████████████████               | 573kB 13.4MB/s eta 0:00:01\r\u001b[K     |█████████████████▍              | 583kB 13.4MB/s eta 0:00:01\r\u001b[K     |█████████████████▊              | 593kB 13.4MB/s eta 0:00:01\r\u001b[K     |██████████████████              | 604kB 13.4MB/s eta 0:00:01\r\u001b[K     |██████████████████▎             | 614kB 13.4MB/s eta 0:00:01\r\u001b[K     |██████████████████▋             | 624kB 13.4MB/s eta 0:00:01\r\u001b[K     |███████████████████             | 634kB 13.4MB/s eta 0:00:01\r\u001b[K     |███████████████████▎            | 645kB 13.4MB/s eta 0:00:01\r\u001b[K     |███████████████████▌            | 655kB 13.4MB/s eta 0:00:01\r\u001b[K     |███████████████████▉            | 665kB 13.4MB/s eta 0:00:01\r\u001b[K     |████████████████████▏           | 675kB 13.4MB/s eta 0:00:01\r\u001b[K     |████████████████████▌           | 686kB 13.4MB/s eta 0:00:01\r\u001b[K     |████████████████████▊           | 696kB 13.4MB/s eta 0:00:01\r\u001b[K     |█████████████████████           | 706kB 13.4MB/s eta 0:00:01\r\u001b[K     |█████████████████████▍          | 716kB 13.4MB/s eta 0:00:01\r\u001b[K     |█████████████████████▋          | 727kB 13.4MB/s eta 0:00:01\r\u001b[K     |██████████████████████          | 737kB 13.4MB/s eta 0:00:01\r\u001b[K     |██████████████████████▎         | 747kB 13.4MB/s eta 0:00:01\r\u001b[K     |██████████████████████▋         | 757kB 13.4MB/s eta 0:00:01\r\u001b[K     |██████████████████████▉         | 768kB 13.4MB/s eta 0:00:01\r\u001b[K     |███████████████████████▏        | 778kB 13.4MB/s eta 0:00:01\r\u001b[K     |███████████████████████▌        | 788kB 13.4MB/s eta 0:00:01\r\u001b[K     |███████████████████████▉        | 798kB 13.4MB/s eta 0:00:01\r\u001b[K     |████████████████████████        | 808kB 13.4MB/s eta 0:00:01\r\u001b[K     |████████████████████████▍       | 819kB 13.4MB/s eta 0:00:01\r\u001b[K     |████████████████████████▊       | 829kB 13.4MB/s eta 0:00:01\r\u001b[K     |█████████████████████████       | 839kB 13.4MB/s eta 0:00:01\r\u001b[K     |█████████████████████████▎      | 849kB 13.4MB/s eta 0:00:01\r\u001b[K     |█████████████████████████▋      | 860kB 13.4MB/s eta 0:00:01\r\u001b[K     |██████████████████████████      | 870kB 13.4MB/s eta 0:00:01\r\u001b[K     |██████████████████████████▎     | 880kB 13.4MB/s eta 0:00:01\r\u001b[K     |██████████████████████████▌     | 890kB 13.4MB/s eta 0:00:01\r\u001b[K     |██████████████████████████▉     | 901kB 13.4MB/s eta 0:00:01\r\u001b[K     |███████████████████████████▏    | 911kB 13.4MB/s eta 0:00:01\r\u001b[K     |███████████████████████████▌    | 921kB 13.4MB/s eta 0:00:01\r\u001b[K     |███████████████████████████▊    | 931kB 13.4MB/s eta 0:00:01\r\u001b[K     |████████████████████████████    | 942kB 13.4MB/s eta 0:00:01\r\u001b[K     |████████████████████████████▍   | 952kB 13.4MB/s eta 0:00:01\r\u001b[K     |████████████████████████████▊   | 962kB 13.4MB/s eta 0:00:01\r\u001b[K     |█████████████████████████████   | 972kB 13.4MB/s eta 0:00:01\r\u001b[K     |█████████████████████████████▎  | 983kB 13.4MB/s eta 0:00:01\r\u001b[K     |█████████████████████████████▋  | 993kB 13.4MB/s eta 0:00:01\r\u001b[K     |██████████████████████████████  | 1.0MB 13.4MB/s eta 0:00:01\r\u001b[K     |██████████████████████████████▏ | 1.0MB 13.4MB/s eta 0:00:01\r\u001b[K     |██████████████████████████████▌ | 1.0MB 13.4MB/s eta 0:00:01\r\u001b[K     |██████████████████████████████▉ | 1.0MB 13.4MB/s eta 0:00:01\r\u001b[K     |███████████████████████████████▏| 1.0MB 13.4MB/s eta 0:00:01\r\u001b[K     |███████████████████████████████▍| 1.1MB 13.4MB/s eta 0:00:01\r\u001b[K     |███████████████████████████████▊| 1.1MB 13.4MB/s eta 0:00:01\r\u001b[K     |████████████████████████████████| 1.1MB 13.4MB/s \n",
            "\u001b[?25hInstalling collected packages: sentencepiece\n",
            "Successfully installed sentencepiece-0.1.91\n",
            "Collecting trax\n",
            "\u001b[?25l  Downloading https://files.pythonhosted.org/packages/85/1d/c0a3aeed127c26a0c3f0925fc9cc7278c272e52310eedfc322477e854972/trax-1.3.6-py2.py3-none-any.whl (468kB)\n",
            "\u001b[K     |████████████████████████████████| 471kB 11.8MB/s \n",
            "\u001b[?25hRequirement already satisfied: tensorflow-datasets in /usr/local/lib/python3.6/dist-packages (from trax) (4.0.1)\n",
            "Requirement already satisfied: absl-py in /usr/local/lib/python3.6/dist-packages (from trax) (0.10.0)\n",
            "Collecting funcsigs\n",
            "  Downloading https://files.pythonhosted.org/packages/69/cb/f5be453359271714c01b9bd06126eaf2e368f1fddfff30818754b5ac2328/funcsigs-1.0.2-py2.py3-none-any.whl\n",
            "Collecting tensorflow-text\n",
            "\u001b[?25l  Downloading https://files.pythonhosted.org/packages/28/b2/2dbd90b93913afd07e6101b8b84327c401c394e60141c1e98590038060b3/tensorflow_text-2.3.0-cp36-cp36m-manylinux1_x86_64.whl (2.6MB)\n",
            "\u001b[K     |████████████████████████████████| 2.6MB 54.5MB/s \n",
            "\u001b[?25hRequirement already satisfied: jaxlib in /usr/local/lib/python3.6/dist-packages (from trax) (0.1.57+cuda101)\n",
            "Requirement already satisfied: gin-config in /usr/local/lib/python3.6/dist-packages (from trax) (0.3.0)\n",
            "Requirement already satisfied: gym in /usr/local/lib/python3.6/dist-packages (from trax) (0.17.3)\n",
            "Requirement already satisfied: six in /usr/local/lib/python3.6/dist-packages (from trax) (1.15.0)\n",
            "Collecting t5\n",
            "\u001b[?25l  Downloading https://files.pythonhosted.org/packages/20/39/a607d2450190af7675e4f77c5eff0cc9a83f82fe63fb396872ef2004106b/t5-0.7.1-py3-none-any.whl (172kB)\n",
            "\u001b[K     |████████████████████████████████| 174kB 51.9MB/s \n",
            "\u001b[?25hRequirement already satisfied: jax in /usr/local/lib/python3.6/dist-packages (from trax) (0.2.6)\n",
            "Requirement already satisfied: scipy in /usr/local/lib/python3.6/dist-packages (from trax) (1.4.1)\n",
            "Requirement already satisfied: numpy in /usr/local/lib/python3.6/dist-packages (from trax) (1.18.5)\n",
            "Requirement already satisfied: promise in /usr/local/lib/python3.6/dist-packages (from tensorflow-datasets->trax) (2.3)\n",
            "Requirement already satisfied: dataclasses; python_version < \"3.7\" in /usr/local/lib/python3.6/dist-packages (from tensorflow-datasets->trax) (0.8)\n",
            "Requirement already satisfied: tensorflow-metadata in /usr/local/lib/python3.6/dist-packages (from tensorflow-datasets->trax) (0.25.0)\n",
            "Requirement already satisfied: tqdm in /usr/local/lib/python3.6/dist-packages (from tensorflow-datasets->trax) (4.41.1)\n",
            "Requirement already satisfied: importlib-resources; python_version < \"3.9\" in /usr/local/lib/python3.6/dist-packages (from tensorflow-datasets->trax) (3.3.0)\n",
            "Requirement already satisfied: future in /usr/local/lib/python3.6/dist-packages (from tensorflow-datasets->trax) (0.16.0)\n",
            "Requirement already satisfied: dill in /usr/local/lib/python3.6/dist-packages (from tensorflow-datasets->trax) (0.3.3)\n",
            "Requirement already satisfied: dm-tree in /usr/local/lib/python3.6/dist-packages (from tensorflow-datasets->trax) (0.1.5)\n",
            "Requirement already satisfied: protobuf>=3.6.1 in /usr/local/lib/python3.6/dist-packages (from tensorflow-datasets->trax) (3.12.4)\n",
            "Requirement already satisfied: requests>=2.19.0 in /usr/local/lib/python3.6/dist-packages (from tensorflow-datasets->trax) (2.23.0)\n",
            "Requirement already satisfied: termcolor in /usr/local/lib/python3.6/dist-packages (from tensorflow-datasets->trax) (1.1.0)\n",
            "Requirement already satisfied: attrs>=18.1.0 in /usr/local/lib/python3.6/dist-packages (from tensorflow-datasets->trax) (20.3.0)\n",
            "Requirement already satisfied: tensorflow<2.4,>=2.3.0 in /usr/local/lib/python3.6/dist-packages (from tensorflow-text->trax) (2.3.0)\n",
            "Requirement already satisfied: flatbuffers in /usr/local/lib/python3.6/dist-packages (from jaxlib->trax) (1.12)\n",
            "Requirement already satisfied: pyglet<=1.5.0,>=1.4.0 in /usr/local/lib/python3.6/dist-packages (from gym->trax) (1.5.0)\n",
            "Requirement already satisfied: cloudpickle<1.7.0,>=1.2.0 in /usr/local/lib/python3.6/dist-packages (from gym->trax) (1.3.0)\n",
            "Collecting tfds-nightly\n",
            "\u001b[?25l  Downloading https://files.pythonhosted.org/packages/67/af/dfb6b215ae66cc911723ffdc40c35d36289d5114a3cf77dbef7fc197a4db/tfds_nightly-4.1.0.dev202012010106-py3-none-any.whl (3.7MB)\n",
            "\u001b[K     |████████████████████████████████| 3.7MB 52.7MB/s \n",
            "\u001b[?25hRequirement already satisfied: torch in /usr/local/lib/python3.6/dist-packages (from t5->trax) (1.7.0+cu101)\n",
            "Requirement already satisfied: nltk in /usr/local/lib/python3.6/dist-packages (from t5->trax) (3.2.5)\n",
            "Collecting sacrebleu\n",
            "\u001b[?25l  Downloading https://files.pythonhosted.org/packages/a3/c4/8e948f601a4f9609e8b2b58f31966cb13cf17b940b82aa3e767f01c42c52/sacrebleu-1.4.14-py3-none-any.whl (64kB)\n",
            "\u001b[K     |████████████████████████████████| 71kB 10.9MB/s \n",
            "\u001b[?25hRequirement already satisfied: sentencepiece in /usr/local/lib/python3.6/dist-packages (from t5->trax) (0.1.91)\n",
            "Requirement already satisfied: babel in /usr/local/lib/python3.6/dist-packages (from t5->trax) (2.9.0)\n",
            "Requirement already satisfied: scikit-learn in /usr/local/lib/python3.6/dist-packages (from t5->trax) (0.22.2.post1)\n",
            "Collecting rouge-score\n",
            "  Downloading https://files.pythonhosted.org/packages/1f/56/a81022436c08b9405a5247b71635394d44fe7e1dbedc4b28c740e09c2840/rouge_score-0.0.4-py2.py3-none-any.whl\n",
            "Collecting transformers>=2.7.0\n",
            "\u001b[?25l  Downloading https://files.pythonhosted.org/packages/99/84/7bc03215279f603125d844bf81c3fb3f2d50fe8e511546eb4897e4be2067/transformers-4.0.0-py3-none-any.whl (1.4MB)\n",
            "\u001b[K     |████████████████████████████████| 1.4MB 60.2MB/s \n",
            "\u001b[?25hRequirement already satisfied: pandas in /usr/local/lib/python3.6/dist-packages (from t5->trax) (1.1.4)\n",
            "Collecting mesh-tensorflow[transformer]>=0.1.13\n",
            "\u001b[?25l  Downloading https://files.pythonhosted.org/packages/16/8b/553deb763ce8d00afb17debab7cb14a87b209cd4c6f0e8ecfc8d884cb12a/mesh_tensorflow-0.1.17-py3-none-any.whl (342kB)\n",
            "\u001b[K     |████████████████████████████████| 348kB 50.8MB/s \n",
            "\u001b[?25hRequirement already satisfied: opt-einsum in /usr/local/lib/python3.6/dist-packages (from jax->trax) (3.3.0)\n",
            "Requirement already satisfied: googleapis-common-protos<2,>=1.52.0 in /usr/local/lib/python3.6/dist-packages (from tensorflow-metadata->tensorflow-datasets->trax) (1.52.0)\n",
            "Requirement already satisfied: zipp>=0.4; python_version < \"3.8\" in /usr/local/lib/python3.6/dist-packages (from importlib-resources; python_version < \"3.9\"->tensorflow-datasets->trax) (3.4.0)\n",
            "Requirement already satisfied: setuptools in /usr/local/lib/python3.6/dist-packages (from protobuf>=3.6.1->tensorflow-datasets->trax) (50.3.2)\n",
            "Requirement already satisfied: idna<3,>=2.5 in /usr/local/lib/python3.6/dist-packages (from requests>=2.19.0->tensorflow-datasets->trax) (2.10)\n",
            "Requirement already satisfied: urllib3!=1.25.0,!=1.25.1,<1.26,>=1.21.1 in /usr/local/lib/python3.6/dist-packages (from requests>=2.19.0->tensorflow-datasets->trax) (1.24.3)\n",
            "Requirement already satisfied: certifi>=2017.4.17 in /usr/local/lib/python3.6/dist-packages (from requests>=2.19.0->tensorflow-datasets->trax) (2020.11.8)\n",
            "Requirement already satisfied: chardet<4,>=3.0.2 in /usr/local/lib/python3.6/dist-packages (from requests>=2.19.0->tensorflow-datasets->trax) (3.0.4)\n",
            "Requirement already satisfied: astunparse==1.6.3 in /usr/local/lib/python3.6/dist-packages (from tensorflow<2.4,>=2.3.0->tensorflow-text->trax) (1.6.3)\n",
            "Requirement already satisfied: wheel>=0.26 in /usr/local/lib/python3.6/dist-packages (from tensorflow<2.4,>=2.3.0->tensorflow-text->trax) (0.35.1)\n",
            "Requirement already satisfied: gast==0.3.3 in /usr/local/lib/python3.6/dist-packages (from tensorflow<2.4,>=2.3.0->tensorflow-text->trax) (0.3.3)\n",
            "Requirement already satisfied: h5py<2.11.0,>=2.10.0 in /usr/local/lib/python3.6/dist-packages (from tensorflow<2.4,>=2.3.0->tensorflow-text->trax) (2.10.0)\n",
            "Requirement already satisfied: tensorboard<3,>=2.3.0 in /usr/local/lib/python3.6/dist-packages (from tensorflow<2.4,>=2.3.0->tensorflow-text->trax) (2.3.0)\n",
            "Requirement already satisfied: tensorflow-estimator<2.4.0,>=2.3.0 in /usr/local/lib/python3.6/dist-packages (from tensorflow<2.4,>=2.3.0->tensorflow-text->trax) (2.3.0)\n",
            "Requirement already satisfied: grpcio>=1.8.6 in /usr/local/lib/python3.6/dist-packages (from tensorflow<2.4,>=2.3.0->tensorflow-text->trax) (1.33.2)\n",
            "Requirement already satisfied: keras-preprocessing<1.2,>=1.1.1 in /usr/local/lib/python3.6/dist-packages (from tensorflow<2.4,>=2.3.0->tensorflow-text->trax) (1.1.2)\n",
            "Requirement already satisfied: google-pasta>=0.1.8 in /usr/local/lib/python3.6/dist-packages (from tensorflow<2.4,>=2.3.0->tensorflow-text->trax) (0.2.0)\n",
            "Requirement already satisfied: wrapt>=1.11.1 in /usr/local/lib/python3.6/dist-packages (from tensorflow<2.4,>=2.3.0->tensorflow-text->trax) (1.12.1)\n",
            "Requirement already satisfied: typing-extensions; python_version < \"3.8\" in /usr/local/lib/python3.6/dist-packages (from tfds-nightly->t5->trax) (3.7.4.3)\n",
            "Collecting portalocker\n",
            "  Downloading https://files.pythonhosted.org/packages/89/a6/3814b7107e0788040870e8825eebf214d72166adf656ba7d4bf14759a06a/portalocker-2.0.0-py2.py3-none-any.whl\n",
            "Requirement already satisfied: pytz>=2015.7 in /usr/local/lib/python3.6/dist-packages (from babel->t5->trax) (2018.9)\n",
            "Requirement already satisfied: joblib>=0.11 in /usr/local/lib/python3.6/dist-packages (from scikit-learn->t5->trax) (0.17.0)\n",
            "Requirement already satisfied: filelock in /usr/local/lib/python3.6/dist-packages (from transformers>=2.7.0->t5->trax) (3.0.12)\n",
            "Requirement already satisfied: packaging in /usr/local/lib/python3.6/dist-packages (from transformers>=2.7.0->t5->trax) (20.4)\n",
            "Collecting sacremoses\n",
            "\u001b[?25l  Downloading https://files.pythonhosted.org/packages/7d/34/09d19aff26edcc8eb2a01bed8e98f13a1537005d31e95233fd48216eed10/sacremoses-0.0.43.tar.gz (883kB)\n",
            "\u001b[K     |████████████████████████████████| 890kB 47.5MB/s \n",
            "\u001b[?25hRequirement already satisfied: regex!=2019.12.17 in /usr/local/lib/python3.6/dist-packages (from transformers>=2.7.0->t5->trax) (2019.12.20)\n",
            "Collecting tokenizers==0.9.4\n",
            "\u001b[?25l  Downloading https://files.pythonhosted.org/packages/0f/1c/e789a8b12e28be5bc1ce2156cf87cb522b379be9cadc7ad8091a4cc107c4/tokenizers-0.9.4-cp36-cp36m-manylinux2010_x86_64.whl (2.9MB)\n",
            "\u001b[K     |████████████████████████████████| 2.9MB 31.6MB/s \n",
            "\u001b[?25hRequirement already satisfied: python-dateutil>=2.7.3 in /usr/local/lib/python3.6/dist-packages (from pandas->t5->trax) (2.8.1)\n",
            "Requirement already satisfied: markdown>=2.6.8 in /usr/local/lib/python3.6/dist-packages (from tensorboard<3,>=2.3.0->tensorflow<2.4,>=2.3.0->tensorflow-text->trax) (3.3.3)\n",
            "Requirement already satisfied: tensorboard-plugin-wit>=1.6.0 in /usr/local/lib/python3.6/dist-packages (from tensorboard<3,>=2.3.0->tensorflow<2.4,>=2.3.0->tensorflow-text->trax) (1.7.0)\n",
            "Requirement already satisfied: google-auth<2,>=1.6.3 in /usr/local/lib/python3.6/dist-packages (from tensorboard<3,>=2.3.0->tensorflow<2.4,>=2.3.0->tensorflow-text->trax) (1.17.2)\n",
            "Requirement already satisfied: werkzeug>=0.11.15 in /usr/local/lib/python3.6/dist-packages (from tensorboard<3,>=2.3.0->tensorflow<2.4,>=2.3.0->tensorflow-text->trax) (1.0.1)\n",
            "Requirement already satisfied: google-auth-oauthlib<0.5,>=0.4.1 in /usr/local/lib/python3.6/dist-packages (from tensorboard<3,>=2.3.0->tensorflow<2.4,>=2.3.0->tensorflow-text->trax) (0.4.2)\n",
            "Requirement already satisfied: pyparsing>=2.0.2 in /usr/local/lib/python3.6/dist-packages (from packaging->transformers>=2.7.0->t5->trax) (2.4.7)\n",
            "Requirement already satisfied: click in /usr/local/lib/python3.6/dist-packages (from sacremoses->transformers>=2.7.0->t5->trax) (7.1.2)\n",
            "Requirement already satisfied: importlib-metadata; python_version < \"3.8\" in /usr/local/lib/python3.6/dist-packages (from markdown>=2.6.8->tensorboard<3,>=2.3.0->tensorflow<2.4,>=2.3.0->tensorflow-text->trax) (2.0.0)\n",
            "Requirement already satisfied: rsa<5,>=3.1.4; python_version >= \"3\" in /usr/local/lib/python3.6/dist-packages (from google-auth<2,>=1.6.3->tensorboard<3,>=2.3.0->tensorflow<2.4,>=2.3.0->tensorflow-text->trax) (4.6)\n",
            "Requirement already satisfied: cachetools<5.0,>=2.0.0 in /usr/local/lib/python3.6/dist-packages (from google-auth<2,>=1.6.3->tensorboard<3,>=2.3.0->tensorflow<2.4,>=2.3.0->tensorflow-text->trax) (4.1.1)\n",
            "Requirement already satisfied: pyasn1-modules>=0.2.1 in /usr/local/lib/python3.6/dist-packages (from google-auth<2,>=1.6.3->tensorboard<3,>=2.3.0->tensorflow<2.4,>=2.3.0->tensorflow-text->trax) (0.2.8)\n",
            "Requirement already satisfied: requests-oauthlib>=0.7.0 in /usr/local/lib/python3.6/dist-packages (from google-auth-oauthlib<0.5,>=0.4.1->tensorboard<3,>=2.3.0->tensorflow<2.4,>=2.3.0->tensorflow-text->trax) (1.3.0)\n",
            "Requirement already satisfied: pyasn1>=0.1.3 in /usr/local/lib/python3.6/dist-packages (from rsa<5,>=3.1.4; python_version >= \"3\"->google-auth<2,>=1.6.3->tensorboard<3,>=2.3.0->tensorflow<2.4,>=2.3.0->tensorflow-text->trax) (0.4.8)\n",
            "Requirement already satisfied: oauthlib>=3.0.0 in /usr/local/lib/python3.6/dist-packages (from requests-oauthlib>=0.7.0->google-auth-oauthlib<0.5,>=0.4.1->tensorboard<3,>=2.3.0->tensorflow<2.4,>=2.3.0->tensorflow-text->trax) (3.1.0)\n",
            "Building wheels for collected packages: sacremoses\n",
            "  Building wheel for sacremoses (setup.py) ... \u001b[?25l\u001b[?25hdone\n",
            "  Created wheel for sacremoses: filename=sacremoses-0.0.43-cp36-none-any.whl size=893257 sha256=02e8feb859c2c7e93ad41825c44bccda8847c197f8e0b46e9669187897c0ef50\n",
            "  Stored in directory: /root/.cache/pip/wheels/29/3c/fd/7ce5c3f0666dab31a50123635e6fb5e19ceb42ce38d4e58f45\n",
            "Successfully built sacremoses\n",
            "Installing collected packages: funcsigs, tensorflow-text, tfds-nightly, portalocker, sacrebleu, rouge-score, sacremoses, tokenizers, transformers, mesh-tensorflow, t5, trax\n",
            "Successfully installed funcsigs-1.0.2 mesh-tensorflow-0.1.17 portalocker-2.0.0 rouge-score-0.0.4 sacrebleu-1.4.14 sacremoses-0.0.43 t5-0.7.1 tensorflow-text-2.3.0 tfds-nightly-4.1.0.dev202012010106 tokenizers-0.9.4 transformers-4.0.0 trax-1.3.6\n"
          ],
          "name": "stdout"
        }
      ]
    },
    {
      "cell_type": "markdown",
      "metadata": {
        "id": "IXeBG2OmNaO-"
      },
      "source": [
        "### Apparently the seed doesn't need to be set in trax supervised... it's now in the training loop. This thing is still half baked."
      ]
    },
    {
      "cell_type": "code",
      "metadata": {
        "id": "ETBHkTBBM-EZ"
      },
      "source": [
        "# Setting random seeds\n",
        "#trax.supervised.trainer_lib.init_random_number_generators(32)\n",
        "numpy.random.seed(32)"
      ],
      "execution_count": 2,
      "outputs": []
    },
    {
      "cell_type": "code",
      "metadata": {
        "colab": {
          "base_uri": "https://localhost:8080/"
        },
        "id": "O2SWOm-8Q2ni",
        "outputId": "0a2d841e-7df2-4d5c-8e85-435959651768"
      },
      "source": [
        "numpy_array = numpy.random.random((5,10))\n",
        "print(f\"The regular numpy array looks like this:\\n\\n {numpy_array}\\n\")\n",
        "print(f\"It is of type: {type(numpy_array)}\")"
      ],
      "execution_count": 3,
      "outputs": [
        {
          "output_type": "stream",
          "text": [
            "The regular numpy array looks like this:\n",
            "\n",
            " [[0.85888927 0.37271115 0.55512878 0.95565655 0.7366696  0.81620514\n",
            "  0.10108656 0.92848807 0.60910917 0.59655344]\n",
            " [0.09178413 0.34518624 0.66275252 0.44171349 0.55148779 0.70371249\n",
            "  0.58940123 0.04993276 0.56179184 0.76635847]\n",
            " [0.91090833 0.09290995 0.90252139 0.46096041 0.45201847 0.99942549\n",
            "  0.16242374 0.70937058 0.16062408 0.81077677]\n",
            " [0.03514717 0.53488673 0.16650012 0.30841038 0.04506241 0.23857613\n",
            "  0.67483453 0.78238275 0.69520163 0.32895445]\n",
            " [0.49403187 0.52412136 0.29854125 0.46310814 0.98478429 0.50113492\n",
            "  0.39807245 0.72790532 0.86333097 0.02616954]]\n",
            "\n",
            "It is of type: <class 'numpy.ndarray'>\n"
          ],
          "name": "stdout"
        }
      ]
    },
    {
      "cell_type": "code",
      "metadata": {
        "colab": {
          "base_uri": "https://localhost:8080/"
        },
        "id": "SMsSZwC6RCz3",
        "outputId": "a7065118-bb03-4aa2-8d18-5e987914462b"
      },
      "source": [
        "trax_numpy_array = np.array(numpy_array)\n",
        "print(f\"The trax numpy array looks like this:\\n\\n {trax_numpy_array}\\n\")\n",
        "print(f\"It is of type: {type(trax_numpy_array)}\")"
      ],
      "execution_count": 4,
      "outputs": [
        {
          "output_type": "stream",
          "text": [
            "The trax numpy array looks like this:\n",
            "\n",
            " [[0.8588893  0.37271115 0.55512875 0.9556565  0.7366696  0.81620514\n",
            "  0.10108656 0.9284881  0.60910916 0.59655344]\n",
            " [0.09178413 0.34518623 0.6627525  0.44171348 0.5514878  0.70371246\n",
            "  0.58940125 0.04993276 0.56179184 0.7663585 ]\n",
            " [0.91090834 0.09290995 0.9025214  0.46096042 0.45201847 0.9994255\n",
            "  0.16242374 0.7093706  0.16062407 0.81077677]\n",
            " [0.03514718 0.5348867  0.16650012 0.30841038 0.04506241 0.23857613\n",
            "  0.67483455 0.7823827  0.69520164 0.32895446]\n",
            " [0.49403188 0.52412134 0.29854125 0.46310815 0.9847843  0.50113493\n",
            "  0.39807245 0.72790533 0.86333096 0.02616954]]\n",
            "\n",
            "It is of type: <class 'jax.interpreters.xla.DeviceArray'>\n"
          ],
          "name": "stdout"
        }
      ]
    },
    {
      "cell_type": "markdown",
      "metadata": {
        "id": "D9Yye48rRNpP"
      },
      "source": [
        "# Calculating Perplexity\n",
        "The perplexity is a metric that measures how well a probability model predicts a sample and it is commonly used to evaluate language models. It is defined as:\n",
        "\n",
        "$$P(W) = \\sqrt[N]{\\prod_{i=1}^{N} \\frac{1}{P(w_i| w_1,...,w_{n-1})}}$$\n",
        "As an implementation hack, you would usually take the log of that formula (to enable us to use the log probabilities we get as output of our RNN, convert exponents to products, and products into sums which makes computations less complicated and computationally more efficient). You should also take care of the padding, since you do not want to include the padding when calculating the perplexity (because we do not want to have a perplexity measure artificially good). The algebra behind this process is explained next:\n",
        "\n",
        "$$log P(W) = {log\\big(\\sqrt[N]{\\prod_{i=1}^{N} \\frac{1}{P(w_i| w_1,...,w_{n-1})}}\\big)}$$$$ = {log\\big({\\prod_{i=1}^{N} \\frac{1}{P(w_i| w_1,...,w_{n-1})}}\\big)^{\\frac{1}{N}}}$$\n",
        "$$ = {log\\big({\\prod_{i=1}^{N}{P(w_i| w_1,...,w_{n-1})}}\\big)^{-\\frac{1}{N}}} $$$$ = -\\frac{1}{N}{log\\big({\\prod_{i=1}^{N}{P(w_i| w_1,...,w_{n-1})}}\\big)} $$$$ = -\\frac{1}{N}{\\big({\\sum_{i=1}^{N}{logP(w_i| w_1,...,w_{n-1})}}\\big)} $$\n",
        "\n",
        "You will be working with a real example from this week's assignment. The example is made up of:\n",
        "\n",
        "* Predictions : batch of tensors corresponding to lines of text predicted by the model.\n",
        "* Targets : batch of actual tensors corresponding to lines of text."
      ]
    },
    {
      "cell_type": "code",
      "metadata": {
        "colab": {
          "base_uri": "https://localhost:8080/"
        },
        "id": "bwZowlKZRcso",
        "outputId": "0ab52dbb-05ef-4e7a-aaea-ea9a2bd76d3d"
      },
      "source": [
        "from trax import layers as tl\n",
        "!wget https://raw.githubusercontent.com/DrAlexSanz/NLP-SPEC-C3/main/W2/utils.py\n",
        "\n",
        "!wget https://github.com/DrAlexSanz/NLP-SPEC-C3/raw/main/W2/predictions.npy\n",
        "!wget https://github.com/DrAlexSanz/NLP-SPEC-C3/raw/main/W2/targets.npy"
      ],
      "execution_count": 5,
      "outputs": [
        {
          "output_type": "stream",
          "text": [
            "--2020-12-01 21:13:07--  https://raw.githubusercontent.com/DrAlexSanz/NLP-SPEC-C3/main/W2/utils.py\n",
            "Resolving raw.githubusercontent.com (raw.githubusercontent.com)... 151.101.0.133, 151.101.64.133, 151.101.128.133, ...\n",
            "Connecting to raw.githubusercontent.com (raw.githubusercontent.com)|151.101.0.133|:443... connected.\n",
            "HTTP request sent, awaiting response... 200 OK\n",
            "Length: 970 [text/plain]\n",
            "Saving to: ‘utils.py’\n",
            "\n",
            "utils.py            100%[===================>]     970  --.-KB/s    in 0s      \n",
            "\n",
            "2020-12-01 21:13:08 (62.5 MB/s) - ‘utils.py’ saved [970/970]\n",
            "\n",
            "--2020-12-01 21:13:08--  https://github.com/DrAlexSanz/NLP-SPEC-C3/raw/main/W2/predictions.npy\n",
            "Resolving github.com (github.com)... 140.82.113.3\n",
            "Connecting to github.com (github.com)|140.82.113.3|:443... connected.\n",
            "HTTP request sent, awaiting response... 302 Found\n",
            "Location: https://raw.githubusercontent.com/DrAlexSanz/NLP-SPEC-C3/main/W2/predictions.npy [following]\n",
            "--2020-12-01 21:13:08--  https://raw.githubusercontent.com/DrAlexSanz/NLP-SPEC-C3/main/W2/predictions.npy\n",
            "Resolving raw.githubusercontent.com (raw.githubusercontent.com)... 151.101.0.133, 151.101.64.133, 151.101.128.133, ...\n",
            "Connecting to raw.githubusercontent.com (raw.githubusercontent.com)|151.101.0.133|:443... connected.\n",
            "HTTP request sent, awaiting response... 200 OK\n",
            "Length: 2097280 (2.0M) [application/octet-stream]\n",
            "Saving to: ‘predictions.npy’\n",
            "\n",
            "predictions.npy     100%[===================>]   2.00M  --.-KB/s    in 0.03s   \n",
            "\n",
            "2020-12-01 21:13:08 (65.3 MB/s) - ‘predictions.npy’ saved [2097280/2097280]\n",
            "\n",
            "--2020-12-01 21:13:08--  https://github.com/DrAlexSanz/NLP-SPEC-C3/raw/main/W2/targets.npy\n",
            "Resolving github.com (github.com)... 140.82.113.3\n",
            "Connecting to github.com (github.com)|140.82.113.3|:443... connected.\n",
            "HTTP request sent, awaiting response... 302 Found\n",
            "Location: https://raw.githubusercontent.com/DrAlexSanz/NLP-SPEC-C3/main/W2/targets.npy [following]\n",
            "--2020-12-01 21:13:08--  https://raw.githubusercontent.com/DrAlexSanz/NLP-SPEC-C3/main/W2/targets.npy\n",
            "Resolving raw.githubusercontent.com (raw.githubusercontent.com)... 151.101.0.133, 151.101.64.133, 151.101.128.133, ...\n",
            "Connecting to raw.githubusercontent.com (raw.githubusercontent.com)|151.101.0.133|:443... connected.\n",
            "HTTP request sent, awaiting response... 200 OK\n",
            "Length: 8320 (8.1K) [application/octet-stream]\n",
            "Saving to: ‘targets.npy’\n",
            "\n",
            "targets.npy         100%[===================>]   8.12K  --.-KB/s    in 0s      \n",
            "\n",
            "2020-12-01 21:13:08 (78.7 MB/s) - ‘targets.npy’ saved [8320/8320]\n",
            "\n"
          ],
          "name": "stdout"
        }
      ]
    },
    {
      "cell_type": "code",
      "metadata": {
        "id": "d5FVi8njJxFe",
        "outputId": "30a9ed54-3f9d-49d4-83e2-27bffbf26157",
        "colab": {
          "base_uri": "https://localhost:8080/"
        }
      },
      "source": [
        "predictions = numpy.load(\"predictions.npy\")\n",
        "targets = numpy.load(\"targets.npy\")\n",
        "\n",
        "#np is a jax devicearray\n",
        "predictions = np.array(predictions)\n",
        "targets = np.array(targets)\n",
        "\n",
        "print(f\"Predictions has shape {predictions.shape}\")\n",
        "print(f\"Targets has shape {targets.shape}\")"
      ],
      "execution_count": 7,
      "outputs": [
        {
          "output_type": "stream",
          "text": [
            "Predictions has shape (32, 64, 256)\n",
            "Targets has shape (32, 64)\n"
          ],
          "name": "stdout"
        }
      ]
    },
    {
      "cell_type": "markdown",
      "metadata": {
        "id": "7c7Jf0LjKwdE"
      },
      "source": [
        "Notice that the predictions have an extra dimension with the same length as the size of the vocabulary used.\n",
        "\n",
        "Because of this you will need a way of reshaping targets to match this shape. For this you can use trax.layers.one_hot().\n",
        "\n",
        "Notice that predictions.shape[-1] will return the size of the last dimension of predictions."
      ]
    },
    {
      "cell_type": "code",
      "metadata": {
        "id": "IdDNooiwKwAS",
        "outputId": "3fd6e843-aafd-4bfb-d05b-9f8da673d44e",
        "colab": {
          "base_uri": "https://localhost:8080/"
        }
      },
      "source": [
        "reshaped_targets = tl.one_hot(targets, predictions.shape[-1])\n",
        "print(f\"Reshaped targets have shape {reshaped_targets.shape}\")"
      ],
      "execution_count": 11,
      "outputs": [
        {
          "output_type": "stream",
          "text": [
            "Reshaped targets have shape (32, 64, 256)\n"
          ],
          "name": "stdout"
        }
      ]
    },
    {
      "cell_type": "markdown",
      "metadata": {
        "id": "lTlYi4aDNGeP"
      },
      "source": [
        "By calculating the product of the predictions and the reshaped targets and summing across the last dimension, the total log perplexity can be computed:"
      ]
    },
    {
      "cell_type": "code",
      "metadata": {
        "id": "Y-kfelNqNHKt"
      },
      "source": [
        "total_log_perp = np.sum(predictions * reshaped_targets, axis = -1)"
      ],
      "execution_count": 12,
      "outputs": []
    },
    {
      "cell_type": "markdown",
      "metadata": {
        "id": "LsexIKOdNYKU"
      },
      "source": [
        "Now you will need to account for the padding so this metric is not artificially deflated (since a lower perplexity means a better model). For identifying which elements are padding and which are not, you can use np.equal() and get a tensor with 1s in the positions of actual values and 0s where there are paddings."
      ]
    },
    {
      "cell_type": "code",
      "metadata": {
        "id": "cz-oVSBTNbrK",
        "outputId": "8440c2c8-6799-42cc-8095-4f1039dac3f5",
        "colab": {
          "base_uri": "https://localhost:8080/"
        }
      },
      "source": [
        "non_pad = 1.0 - np.equal(targets, 0)\n",
        "print(f\"Non pad has shape {non_pad.shape}\")\n",
        "print(non_pad)"
      ],
      "execution_count": 13,
      "outputs": [
        {
          "output_type": "stream",
          "text": [
            "Non pad has shape (32, 64)\n",
            "[[1. 1. 1. ... 0. 0. 0.]\n",
            " [1. 1. 1. ... 0. 0. 0.]\n",
            " [1. 1. 1. ... 0. 0. 0.]\n",
            " ...\n",
            " [1. 1. 1. ... 0. 0. 0.]\n",
            " [1. 1. 1. ... 0. 0. 0.]\n",
            " [1. 1. 1. ... 0. 0. 0.]]\n"
          ],
          "name": "stdout"
        }
      ]
    },
    {
      "cell_type": "code",
      "metadata": {
        "id": "WkeoOx8mN3bB",
        "outputId": "0f4cb07a-4802-4945-d795-b69ef85dba0b",
        "colab": {
          "base_uri": "https://localhost:8080/"
        }
      },
      "source": [
        "real_log_perp = non_pad * total_log_perp\n",
        "print(f\"Real log perp has shape {real_log_perp.shape}\")\n",
        "print(real_log_perp) #Notice the 0s"
      ],
      "execution_count": 14,
      "outputs": [
        {
          "output_type": "stream",
          "text": [
            "Real log perp has shape (32, 64)\n",
            "[[ -5.396545    -1.0311184   -0.66916656 ...  -0.          -0.\n",
            "   -0.        ]\n",
            " [ -4.5857706   -1.1341286   -8.538033   ...  -0.          -0.\n",
            "   -0.        ]\n",
            " [ -5.2223887   -1.2824144   -0.17312431 ...  -0.          -0.\n",
            "   -0.        ]\n",
            " ...\n",
            " [ -5.396545   -17.291681    -4.360766   ...  -0.          -0.\n",
            "   -0.        ]\n",
            " [ -5.9313164  -14.247417    -0.2637329  ...  -0.          -0.\n",
            "   -0.        ]\n",
            " [ -5.670536    -0.10595131   0.         ...  -0.          -0.\n",
            "   -0.        ]]\n"
          ],
          "name": "stdout"
        }
      ]
    },
    {
      "cell_type": "markdown",
      "metadata": {
        "id": "46EosRFOONNl"
      },
      "source": [
        "To get a single average log perplexity across all the elements in the batch you can sum across both dimensions and divide by the number of elements. Notice that the result will be the negative of the real log perplexity of the model:"
      ]
    },
    {
      "cell_type": "code",
      "metadata": {
        "id": "fHt2zFI0OOd-",
        "outputId": "3d1326ae-b84d-45e1-cf59-5b3e1e772b9f",
        "colab": {
          "base_uri": "https://localhost:8080/"
        }
      },
      "source": [
        "log_perp = -1 * np.sum(real_log_perp)/np.sum(non_pad)\n",
        "\n",
        "print(f\"The log perplexity of the model is {log_perp:.4f} and the perplexity is {np.exp(log_perp):.4f}\")"
      ],
      "execution_count": 16,
      "outputs": [
        {
          "output_type": "stream",
          "text": [
            "The log perplexity of the model is 2.3281 and the perplexity is 10.2586\n"
          ],
          "name": "stdout"
        }
      ]
    }
  ]
}